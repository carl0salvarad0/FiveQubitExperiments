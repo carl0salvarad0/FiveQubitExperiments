{
  "nbformat": 4,
  "nbformat_minor": 0,
  "metadata": {
    "celltoolbar": "Raw Cell Format",
    "colab": {
      "provenance": [],
      "machine_shape": "hm",
      "collapsed_sections": [
        "0PndFMfCpk30",
        "oYGaGXvCByjA",
        "JE642a0oEBzP",
        "hqGXI5OgimMa",
        "8DTBQ4nuoyl3",
        "lIeYQNYA5uw2"
      ]
    },
    "kernelspec": {
      "display_name": "Python 3",
      "language": "python",
      "name": "python3"
    },
    "language_info": {
      "codemirror_mode": {
        "name": "ipython",
        "version": 3
      },
      "file_extension": ".py",
      "mimetype": "text/x-python",
      "name": "python",
      "nbconvert_exporter": "python",
      "pygments_lexer": "ipython3",
      "version": "3.7.4"
    }
  },
  "cells": [
    {
      "cell_type": "markdown",
      "metadata": {
        "id": "8m9ye4AS6dE4"
      },
      "source": [
        "\n",
        "\n",
        "# Five Quantum Info Experiments\n",
        "\n",
        "_Author: J. Lykken_\n",
        "\n",
        "_Edited for personal use by: Carlos Alvarado_\n",
        "\n",
        "This notebook goes with Lecture One, June 23 2020, of\n",
        "\"Quantum Information for Particle Theorists\"\n",
        "at the TASI summer school [2010.02931](https://arxiv.org/abs/2010.02931)\n",
        "\n",
        "---\n",
        "\n"
      ]
    },
    {
      "cell_type": "markdown",
      "metadata": {
        "id": "0PndFMfCpk30"
      },
      "source": [
        "### Connect to the Google Colab cloud GPU service (IGNORE)"
      ]
    },
    {
      "cell_type": "code",
      "metadata": {
        "id": "OZ9QKdxJpXB_",
        "outputId": "b795b4d5-1d72-42f2-a3bc-3a8ab1013d73",
        "colab": {
          "base_uri": "https://localhost:8080/",
          "height": 356
        }
      },
      "source": [
        "#### GOOGLE COLAB SPECIFIC ##########################\n",
        "# You will need a free Google Colab account or a paid Colab Pro account\n",
        "# Put this notebook in your Google Drive, then open it using Colab\n",
        "#\n",
        "# CODE SNIPPET TO ACCESS THE FILES IN YOUR GOOGLE DRIVE\n",
        "# IT WILL ASK YOU FOR AUTHORIZATION VIA YOUR GOOGLE ACCOUNT\n",
        "\n",
        "# Load the Drive helper and mount\n",
        "from google.colab import drive\n",
        "\n",
        "# This will prompt for authorization.\n",
        "# drive.mount('/content/drive')\n",
        "drive.mount(\"/content/drive\", force_remount=True)\n",
        "\n",
        "# After executing the cell above, Drive\n",
        "# files will be present in \"/content/drive/My Drive\".\n",
        "# !ls \"/content/drive/My Drive\"\n"
      ],
      "execution_count": null,
      "outputs": [
        {
          "output_type": "error",
          "ename": "MessageError",
          "evalue": "Error: credential propagation was unsuccessful",
          "traceback": [
            "\u001b[0;31m---------------------------------------------------------------------------\u001b[0m",
            "\u001b[0;31mMessageError\u001b[0m                              Traceback (most recent call last)",
            "\u001b[0;32m<ipython-input-3-25d48ca9b329>\u001b[0m in \u001b[0;36m<cell line: 13>\u001b[0;34m()\u001b[0m\n\u001b[1;32m     11\u001b[0m \u001b[0;31m# This will prompt for authorization.\u001b[0m\u001b[0;34m\u001b[0m\u001b[0;34m\u001b[0m\u001b[0m\n\u001b[1;32m     12\u001b[0m \u001b[0;31m# drive.mount('/content/drive')\u001b[0m\u001b[0;34m\u001b[0m\u001b[0;34m\u001b[0m\u001b[0m\n\u001b[0;32m---> 13\u001b[0;31m \u001b[0mdrive\u001b[0m\u001b[0;34m.\u001b[0m\u001b[0mmount\u001b[0m\u001b[0;34m(\u001b[0m\u001b[0;34m\"/content/drive\"\u001b[0m\u001b[0;34m,\u001b[0m \u001b[0mforce_remount\u001b[0m\u001b[0;34m=\u001b[0m\u001b[0;32mTrue\u001b[0m\u001b[0;34m)\u001b[0m\u001b[0;34m\u001b[0m\u001b[0;34m\u001b[0m\u001b[0m\n\u001b[0m\u001b[1;32m     14\u001b[0m \u001b[0;34m\u001b[0m\u001b[0m\n\u001b[1;32m     15\u001b[0m \u001b[0;31m# After executing the cell above, Drive\u001b[0m\u001b[0;34m\u001b[0m\u001b[0;34m\u001b[0m\u001b[0m\n",
            "\u001b[0;32m/usr/local/lib/python3.10/dist-packages/google/colab/drive.py\u001b[0m in \u001b[0;36mmount\u001b[0;34m(mountpoint, force_remount, timeout_ms, readonly)\u001b[0m\n\u001b[1;32m     98\u001b[0m \u001b[0;32mdef\u001b[0m \u001b[0mmount\u001b[0m\u001b[0;34m(\u001b[0m\u001b[0mmountpoint\u001b[0m\u001b[0;34m,\u001b[0m \u001b[0mforce_remount\u001b[0m\u001b[0;34m=\u001b[0m\u001b[0;32mFalse\u001b[0m\u001b[0;34m,\u001b[0m \u001b[0mtimeout_ms\u001b[0m\u001b[0;34m=\u001b[0m\u001b[0;36m120000\u001b[0m\u001b[0;34m,\u001b[0m \u001b[0mreadonly\u001b[0m\u001b[0;34m=\u001b[0m\u001b[0;32mFalse\u001b[0m\u001b[0;34m)\u001b[0m\u001b[0;34m:\u001b[0m\u001b[0;34m\u001b[0m\u001b[0;34m\u001b[0m\u001b[0m\n\u001b[1;32m     99\u001b[0m   \u001b[0;34m\"\"\"Mount your Google Drive at the specified mountpoint path.\"\"\"\u001b[0m\u001b[0;34m\u001b[0m\u001b[0;34m\u001b[0m\u001b[0m\n\u001b[0;32m--> 100\u001b[0;31m   return _mount(\n\u001b[0m\u001b[1;32m    101\u001b[0m       \u001b[0mmountpoint\u001b[0m\u001b[0;34m,\u001b[0m\u001b[0;34m\u001b[0m\u001b[0;34m\u001b[0m\u001b[0m\n\u001b[1;32m    102\u001b[0m       \u001b[0mforce_remount\u001b[0m\u001b[0;34m=\u001b[0m\u001b[0mforce_remount\u001b[0m\u001b[0;34m,\u001b[0m\u001b[0;34m\u001b[0m\u001b[0;34m\u001b[0m\u001b[0m\n",
            "\u001b[0;32m/usr/local/lib/python3.10/dist-packages/google/colab/drive.py\u001b[0m in \u001b[0;36m_mount\u001b[0;34m(mountpoint, force_remount, timeout_ms, ephemeral, readonly)\u001b[0m\n\u001b[1;32m    131\u001b[0m   )\n\u001b[1;32m    132\u001b[0m   \u001b[0;32mif\u001b[0m \u001b[0mephemeral\u001b[0m\u001b[0;34m:\u001b[0m\u001b[0;34m\u001b[0m\u001b[0;34m\u001b[0m\u001b[0m\n\u001b[0;32m--> 133\u001b[0;31m     _message.blocking_request(\n\u001b[0m\u001b[1;32m    134\u001b[0m         \u001b[0;34m'request_auth'\u001b[0m\u001b[0;34m,\u001b[0m \u001b[0mrequest\u001b[0m\u001b[0;34m=\u001b[0m\u001b[0;34m{\u001b[0m\u001b[0;34m'authType'\u001b[0m\u001b[0;34m:\u001b[0m \u001b[0;34m'dfs_ephemeral'\u001b[0m\u001b[0;34m}\u001b[0m\u001b[0;34m,\u001b[0m \u001b[0mtimeout_sec\u001b[0m\u001b[0;34m=\u001b[0m\u001b[0;32mNone\u001b[0m\u001b[0;34m\u001b[0m\u001b[0;34m\u001b[0m\u001b[0m\n\u001b[1;32m    135\u001b[0m     )\n",
            "\u001b[0;32m/usr/local/lib/python3.10/dist-packages/google/colab/_message.py\u001b[0m in \u001b[0;36mblocking_request\u001b[0;34m(request_type, request, timeout_sec, parent)\u001b[0m\n\u001b[1;32m    174\u001b[0m       \u001b[0mrequest_type\u001b[0m\u001b[0;34m,\u001b[0m \u001b[0mrequest\u001b[0m\u001b[0;34m,\u001b[0m \u001b[0mparent\u001b[0m\u001b[0;34m=\u001b[0m\u001b[0mparent\u001b[0m\u001b[0;34m,\u001b[0m \u001b[0mexpect_reply\u001b[0m\u001b[0;34m=\u001b[0m\u001b[0;32mTrue\u001b[0m\u001b[0;34m\u001b[0m\u001b[0;34m\u001b[0m\u001b[0m\n\u001b[1;32m    175\u001b[0m   )\n\u001b[0;32m--> 176\u001b[0;31m   \u001b[0;32mreturn\u001b[0m \u001b[0mread_reply_from_input\u001b[0m\u001b[0;34m(\u001b[0m\u001b[0mrequest_id\u001b[0m\u001b[0;34m,\u001b[0m \u001b[0mtimeout_sec\u001b[0m\u001b[0;34m)\u001b[0m\u001b[0;34m\u001b[0m\u001b[0;34m\u001b[0m\u001b[0m\n\u001b[0m",
            "\u001b[0;32m/usr/local/lib/python3.10/dist-packages/google/colab/_message.py\u001b[0m in \u001b[0;36mread_reply_from_input\u001b[0;34m(message_id, timeout_sec)\u001b[0m\n\u001b[1;32m    101\u001b[0m     ):\n\u001b[1;32m    102\u001b[0m       \u001b[0;32mif\u001b[0m \u001b[0;34m'error'\u001b[0m \u001b[0;32min\u001b[0m \u001b[0mreply\u001b[0m\u001b[0;34m:\u001b[0m\u001b[0;34m\u001b[0m\u001b[0;34m\u001b[0m\u001b[0m\n\u001b[0;32m--> 103\u001b[0;31m         \u001b[0;32mraise\u001b[0m \u001b[0mMessageError\u001b[0m\u001b[0;34m(\u001b[0m\u001b[0mreply\u001b[0m\u001b[0;34m[\u001b[0m\u001b[0;34m'error'\u001b[0m\u001b[0;34m]\u001b[0m\u001b[0;34m)\u001b[0m\u001b[0;34m\u001b[0m\u001b[0;34m\u001b[0m\u001b[0m\n\u001b[0m\u001b[1;32m    104\u001b[0m       \u001b[0;32mreturn\u001b[0m \u001b[0mreply\u001b[0m\u001b[0;34m.\u001b[0m\u001b[0mget\u001b[0m\u001b[0;34m(\u001b[0m\u001b[0;34m'data'\u001b[0m\u001b[0;34m,\u001b[0m \u001b[0;32mNone\u001b[0m\u001b[0;34m)\u001b[0m\u001b[0;34m\u001b[0m\u001b[0;34m\u001b[0m\u001b[0m\n\u001b[1;32m    105\u001b[0m \u001b[0;34m\u001b[0m\u001b[0m\n",
            "\u001b[0;31mMessageError\u001b[0m: Error: credential propagation was unsuccessful"
          ]
        }
      ]
    },
    {
      "cell_type": "markdown",
      "metadata": {
        "colab_type": "toc",
        "id": "gU-cEyoloyls"
      },
      "source": [
        "### Installing cirq\n",
        "\n",
        "Executing the following cell will attempt to install cirq. On Google Colab it may then ask you to restart the runtime; do so."
      ]
    },
    {
      "cell_type": "code",
      "metadata": {
        "scrolled": true,
        "id": "Jj8TNBeKoylt",
        "outputId": "ea6cbddb-e696-4c52-ba49-981547cd6ea8",
        "colab": {
          "base_uri": "https://localhost:8080/"
        }
      },
      "source": [
        "#!pip install cirq --quiet\n",
        "\n",
        "# Used instead this, as suggested by the AI\n",
        "!pip install cirq-google\n",
        "print()\n",
        "\n",
        "!pip install cirq"
      ],
      "execution_count": 1,
      "outputs": [
        {
          "output_type": "stream",
          "name": "stdout",
          "text": [
            "Collecting cirq-google\n",
            "  Downloading cirq_google-1.4.0-py3-none-any.whl (532 kB)\n",
            "\u001b[2K     \u001b[90m━━━━━━━━━━━━━━━━━━━━━━━━━━━━━━━━━━━━━━━━\u001b[0m \u001b[32m532.7/532.7 kB\u001b[0m \u001b[31m3.6 MB/s\u001b[0m eta \u001b[36m0:00:00\u001b[0m\n",
            "\u001b[?25hRequirement already satisfied: google-api-core[grpc]>=1.14.0 in /usr/local/lib/python3.10/dist-packages (from cirq-google) (2.11.1)\n",
            "Requirement already satisfied: proto-plus>=1.20.0 in /usr/local/lib/python3.10/dist-packages (from cirq-google) (1.23.0)\n",
            "Requirement already satisfied: protobuf>=3.15.0 in /usr/local/lib/python3.10/dist-packages (from cirq-google) (3.20.3)\n",
            "Collecting cirq-core==1.4.0 (from cirq-google)\n",
            "  Downloading cirq_core-1.4.0-py3-none-any.whl (1.9 MB)\n",
            "\u001b[2K     \u001b[90m━━━━━━━━━━━━━━━━━━━━━━━━━━━━━━━━━━━━━━━━\u001b[0m \u001b[32m1.9/1.9 MB\u001b[0m \u001b[31m7.8 MB/s\u001b[0m eta \u001b[36m0:00:00\u001b[0m\n",
            "\u001b[?25hRequirement already satisfied: attrs in /usr/local/lib/python3.10/dist-packages (from cirq-core==1.4.0->cirq-google) (23.2.0)\n",
            "Collecting duet>=0.2.8 (from cirq-core==1.4.0->cirq-google)\n",
            "  Downloading duet-0.2.9-py3-none-any.whl (29 kB)\n",
            "Requirement already satisfied: matplotlib~=3.0 in /usr/local/lib/python3.10/dist-packages (from cirq-core==1.4.0->cirq-google) (3.7.1)\n",
            "Requirement already satisfied: networkx>=2.4 in /usr/local/lib/python3.10/dist-packages (from cirq-core==1.4.0->cirq-google) (3.3)\n",
            "Requirement already satisfied: numpy~=1.22 in /usr/local/lib/python3.10/dist-packages (from cirq-core==1.4.0->cirq-google) (1.25.2)\n",
            "Requirement already satisfied: pandas in /usr/local/lib/python3.10/dist-packages (from cirq-core==1.4.0->cirq-google) (2.0.3)\n",
            "Requirement already satisfied: sortedcontainers~=2.0 in /usr/local/lib/python3.10/dist-packages (from cirq-core==1.4.0->cirq-google) (2.4.0)\n",
            "Requirement already satisfied: scipy~=1.0 in /usr/local/lib/python3.10/dist-packages (from cirq-core==1.4.0->cirq-google) (1.11.4)\n",
            "Requirement already satisfied: sympy in /usr/local/lib/python3.10/dist-packages (from cirq-core==1.4.0->cirq-google) (1.12.1)\n",
            "Requirement already satisfied: typing-extensions>=4.2 in /usr/local/lib/python3.10/dist-packages (from cirq-core==1.4.0->cirq-google) (4.12.1)\n",
            "Requirement already satisfied: tqdm in /usr/local/lib/python3.10/dist-packages (from cirq-core==1.4.0->cirq-google) (4.66.4)\n",
            "Requirement already satisfied: googleapis-common-protos<2.0.dev0,>=1.56.2 in /usr/local/lib/python3.10/dist-packages (from google-api-core[grpc]>=1.14.0->cirq-google) (1.63.1)\n",
            "Requirement already satisfied: google-auth<3.0.dev0,>=2.14.1 in /usr/local/lib/python3.10/dist-packages (from google-api-core[grpc]>=1.14.0->cirq-google) (2.27.0)\n",
            "Requirement already satisfied: requests<3.0.0.dev0,>=2.18.0 in /usr/local/lib/python3.10/dist-packages (from google-api-core[grpc]>=1.14.0->cirq-google) (2.31.0)\n",
            "Requirement already satisfied: grpcio<2.0dev,>=1.33.2 in /usr/local/lib/python3.10/dist-packages (from google-api-core[grpc]>=1.14.0->cirq-google) (1.64.1)\n",
            "Requirement already satisfied: grpcio-status<2.0.dev0,>=1.33.2 in /usr/local/lib/python3.10/dist-packages (from google-api-core[grpc]>=1.14.0->cirq-google) (1.48.2)\n",
            "Requirement already satisfied: cachetools<6.0,>=2.0.0 in /usr/local/lib/python3.10/dist-packages (from google-auth<3.0.dev0,>=2.14.1->google-api-core[grpc]>=1.14.0->cirq-google) (5.3.3)\n",
            "Requirement already satisfied: pyasn1-modules>=0.2.1 in /usr/local/lib/python3.10/dist-packages (from google-auth<3.0.dev0,>=2.14.1->google-api-core[grpc]>=1.14.0->cirq-google) (0.4.0)\n",
            "Requirement already satisfied: rsa<5,>=3.1.4 in /usr/local/lib/python3.10/dist-packages (from google-auth<3.0.dev0,>=2.14.1->google-api-core[grpc]>=1.14.0->cirq-google) (4.9)\n",
            "Requirement already satisfied: contourpy>=1.0.1 in /usr/local/lib/python3.10/dist-packages (from matplotlib~=3.0->cirq-core==1.4.0->cirq-google) (1.2.1)\n",
            "Requirement already satisfied: cycler>=0.10 in /usr/local/lib/python3.10/dist-packages (from matplotlib~=3.0->cirq-core==1.4.0->cirq-google) (0.12.1)\n",
            "Requirement already satisfied: fonttools>=4.22.0 in /usr/local/lib/python3.10/dist-packages (from matplotlib~=3.0->cirq-core==1.4.0->cirq-google) (4.53.0)\n",
            "Requirement already satisfied: kiwisolver>=1.0.1 in /usr/local/lib/python3.10/dist-packages (from matplotlib~=3.0->cirq-core==1.4.0->cirq-google) (1.4.5)\n",
            "Requirement already satisfied: packaging>=20.0 in /usr/local/lib/python3.10/dist-packages (from matplotlib~=3.0->cirq-core==1.4.0->cirq-google) (24.0)\n",
            "Requirement already satisfied: pillow>=6.2.0 in /usr/local/lib/python3.10/dist-packages (from matplotlib~=3.0->cirq-core==1.4.0->cirq-google) (9.4.0)\n",
            "Requirement already satisfied: pyparsing>=2.3.1 in /usr/local/lib/python3.10/dist-packages (from matplotlib~=3.0->cirq-core==1.4.0->cirq-google) (3.1.2)\n",
            "Requirement already satisfied: python-dateutil>=2.7 in /usr/local/lib/python3.10/dist-packages (from matplotlib~=3.0->cirq-core==1.4.0->cirq-google) (2.8.2)\n",
            "Requirement already satisfied: charset-normalizer<4,>=2 in /usr/local/lib/python3.10/dist-packages (from requests<3.0.0.dev0,>=2.18.0->google-api-core[grpc]>=1.14.0->cirq-google) (3.3.2)\n",
            "Requirement already satisfied: idna<4,>=2.5 in /usr/local/lib/python3.10/dist-packages (from requests<3.0.0.dev0,>=2.18.0->google-api-core[grpc]>=1.14.0->cirq-google) (3.7)\n",
            "Requirement already satisfied: urllib3<3,>=1.21.1 in /usr/local/lib/python3.10/dist-packages (from requests<3.0.0.dev0,>=2.18.0->google-api-core[grpc]>=1.14.0->cirq-google) (2.0.7)\n",
            "Requirement already satisfied: certifi>=2017.4.17 in /usr/local/lib/python3.10/dist-packages (from requests<3.0.0.dev0,>=2.18.0->google-api-core[grpc]>=1.14.0->cirq-google) (2024.6.2)\n",
            "Requirement already satisfied: pytz>=2020.1 in /usr/local/lib/python3.10/dist-packages (from pandas->cirq-core==1.4.0->cirq-google) (2023.4)\n",
            "Requirement already satisfied: tzdata>=2022.1 in /usr/local/lib/python3.10/dist-packages (from pandas->cirq-core==1.4.0->cirq-google) (2024.1)\n",
            "Requirement already satisfied: mpmath<1.4.0,>=1.1.0 in /usr/local/lib/python3.10/dist-packages (from sympy->cirq-core==1.4.0->cirq-google) (1.3.0)\n",
            "Requirement already satisfied: pyasn1<0.7.0,>=0.4.6 in /usr/local/lib/python3.10/dist-packages (from pyasn1-modules>=0.2.1->google-auth<3.0.dev0,>=2.14.1->google-api-core[grpc]>=1.14.0->cirq-google) (0.6.0)\n",
            "Requirement already satisfied: six>=1.5 in /usr/local/lib/python3.10/dist-packages (from python-dateutil>=2.7->matplotlib~=3.0->cirq-core==1.4.0->cirq-google) (1.16.0)\n",
            "Installing collected packages: duet, cirq-core, cirq-google\n",
            "Successfully installed cirq-core-1.4.0 cirq-google-1.4.0 duet-0.2.9\n",
            "\n",
            "Collecting cirq\n",
            "  Downloading cirq-1.4.0-py3-none-any.whl (8.0 kB)\n",
            "Collecting cirq-aqt==1.4.0 (from cirq)\n",
            "  Downloading cirq_aqt-1.4.0-py3-none-any.whl (30 kB)\n",
            "Requirement already satisfied: cirq-core==1.4.0 in /usr/local/lib/python3.10/dist-packages (from cirq) (1.4.0)\n",
            "Requirement already satisfied: cirq-google==1.4.0 in /usr/local/lib/python3.10/dist-packages (from cirq) (1.4.0)\n",
            "Collecting cirq-ionq==1.4.0 (from cirq)\n",
            "  Downloading cirq_ionq-1.4.0-py3-none-any.whl (60 kB)\n",
            "\u001b[2K     \u001b[90m━━━━━━━━━━━━━━━━━━━━━━━━━━━━━━━━━━━━━━━━\u001b[0m \u001b[32m60.5/60.5 kB\u001b[0m \u001b[31m2.5 MB/s\u001b[0m eta \u001b[36m0:00:00\u001b[0m\n",
            "\u001b[?25hCollecting cirq-pasqal==1.4.0 (from cirq)\n",
            "  Downloading cirq_pasqal-1.4.0-py3-none-any.whl (31 kB)\n",
            "Collecting cirq-rigetti==1.4.0 (from cirq)\n",
            "  Downloading cirq_rigetti-1.4.0-py3-none-any.whl (66 kB)\n",
            "\u001b[2K     \u001b[90m━━━━━━━━━━━━━━━━━━━━━━━━━━━━━━━━━━━━━━━━\u001b[0m \u001b[32m66.2/66.2 kB\u001b[0m \u001b[31m5.3 MB/s\u001b[0m eta \u001b[36m0:00:00\u001b[0m\n",
            "\u001b[?25hCollecting cirq-web==1.4.0 (from cirq)\n",
            "  Downloading cirq_web-1.4.0-py3-none-any.whl (596 kB)\n",
            "\u001b[2K     \u001b[90m━━━━━━━━━━━━━━━━━━━━━━━━━━━━━━━━━━━━━━━━\u001b[0m \u001b[32m596.5/596.5 kB\u001b[0m \u001b[31m6.0 MB/s\u001b[0m eta \u001b[36m0:00:00\u001b[0m\n",
            "\u001b[?25hRequirement already satisfied: requests~=2.18 in /usr/local/lib/python3.10/dist-packages (from cirq-aqt==1.4.0->cirq) (2.31.0)\n",
            "Requirement already satisfied: attrs in /usr/local/lib/python3.10/dist-packages (from cirq-core==1.4.0->cirq) (23.2.0)\n",
            "Requirement already satisfied: duet>=0.2.8 in /usr/local/lib/python3.10/dist-packages (from cirq-core==1.4.0->cirq) (0.2.9)\n",
            "Requirement already satisfied: matplotlib~=3.0 in /usr/local/lib/python3.10/dist-packages (from cirq-core==1.4.0->cirq) (3.7.1)\n",
            "Requirement already satisfied: networkx>=2.4 in /usr/local/lib/python3.10/dist-packages (from cirq-core==1.4.0->cirq) (3.3)\n",
            "Requirement already satisfied: numpy~=1.22 in /usr/local/lib/python3.10/dist-packages (from cirq-core==1.4.0->cirq) (1.25.2)\n",
            "Requirement already satisfied: pandas in /usr/local/lib/python3.10/dist-packages (from cirq-core==1.4.0->cirq) (2.0.3)\n",
            "Requirement already satisfied: sortedcontainers~=2.0 in /usr/local/lib/python3.10/dist-packages (from cirq-core==1.4.0->cirq) (2.4.0)\n",
            "Requirement already satisfied: scipy~=1.0 in /usr/local/lib/python3.10/dist-packages (from cirq-core==1.4.0->cirq) (1.11.4)\n",
            "Requirement already satisfied: sympy in /usr/local/lib/python3.10/dist-packages (from cirq-core==1.4.0->cirq) (1.12.1)\n",
            "Requirement already satisfied: typing-extensions>=4.2 in /usr/local/lib/python3.10/dist-packages (from cirq-core==1.4.0->cirq) (4.12.1)\n",
            "Requirement already satisfied: tqdm in /usr/local/lib/python3.10/dist-packages (from cirq-core==1.4.0->cirq) (4.66.4)\n",
            "Requirement already satisfied: google-api-core[grpc]>=1.14.0 in /usr/local/lib/python3.10/dist-packages (from cirq-google==1.4.0->cirq) (2.11.1)\n",
            "Requirement already satisfied: proto-plus>=1.20.0 in /usr/local/lib/python3.10/dist-packages (from cirq-google==1.4.0->cirq) (1.23.0)\n",
            "Requirement already satisfied: protobuf>=3.15.0 in /usr/local/lib/python3.10/dist-packages (from cirq-google==1.4.0->cirq) (3.20.3)\n",
            "Collecting pyquil<4.0.0,>=3.2.0 (from cirq-rigetti==1.4.0->cirq)\n",
            "  Downloading pyquil-3.5.4-py3-none-any.whl (223 kB)\n",
            "\u001b[2K     \u001b[90m━━━━━━━━━━━━━━━━━━━━━━━━━━━━━━━━━━━━━━━━\u001b[0m \u001b[32m223.8/223.8 kB\u001b[0m \u001b[31m8.4 MB/s\u001b[0m eta \u001b[36m0:00:00\u001b[0m\n",
            "\u001b[?25hRequirement already satisfied: googleapis-common-protos<2.0.dev0,>=1.56.2 in /usr/local/lib/python3.10/dist-packages (from google-api-core[grpc]>=1.14.0->cirq-google==1.4.0->cirq) (1.63.1)\n",
            "Requirement already satisfied: google-auth<3.0.dev0,>=2.14.1 in /usr/local/lib/python3.10/dist-packages (from google-api-core[grpc]>=1.14.0->cirq-google==1.4.0->cirq) (2.27.0)\n",
            "Requirement already satisfied: grpcio<2.0dev,>=1.33.2 in /usr/local/lib/python3.10/dist-packages (from google-api-core[grpc]>=1.14.0->cirq-google==1.4.0->cirq) (1.64.1)\n",
            "Requirement already satisfied: grpcio-status<2.0.dev0,>=1.33.2 in /usr/local/lib/python3.10/dist-packages (from google-api-core[grpc]>=1.14.0->cirq-google==1.4.0->cirq) (1.48.2)\n",
            "Requirement already satisfied: contourpy>=1.0.1 in /usr/local/lib/python3.10/dist-packages (from matplotlib~=3.0->cirq-core==1.4.0->cirq) (1.2.1)\n",
            "Requirement already satisfied: cycler>=0.10 in /usr/local/lib/python3.10/dist-packages (from matplotlib~=3.0->cirq-core==1.4.0->cirq) (0.12.1)\n",
            "Requirement already satisfied: fonttools>=4.22.0 in /usr/local/lib/python3.10/dist-packages (from matplotlib~=3.0->cirq-core==1.4.0->cirq) (4.53.0)\n",
            "Requirement already satisfied: kiwisolver>=1.0.1 in /usr/local/lib/python3.10/dist-packages (from matplotlib~=3.0->cirq-core==1.4.0->cirq) (1.4.5)\n",
            "Requirement already satisfied: packaging>=20.0 in /usr/local/lib/python3.10/dist-packages (from matplotlib~=3.0->cirq-core==1.4.0->cirq) (24.0)\n",
            "Requirement already satisfied: pillow>=6.2.0 in /usr/local/lib/python3.10/dist-packages (from matplotlib~=3.0->cirq-core==1.4.0->cirq) (9.4.0)\n",
            "Requirement already satisfied: pyparsing>=2.3.1 in /usr/local/lib/python3.10/dist-packages (from matplotlib~=3.0->cirq-core==1.4.0->cirq) (3.1.2)\n",
            "Requirement already satisfied: python-dateutil>=2.7 in /usr/local/lib/python3.10/dist-packages (from matplotlib~=3.0->cirq-core==1.4.0->cirq) (2.8.2)\n",
            "Collecting deprecated<2.0.0,>=1.2.13 (from pyquil<4.0.0,>=3.2.0->cirq-rigetti==1.4.0->cirq)\n",
            "  Downloading Deprecated-1.2.14-py2.py3-none-any.whl (9.6 kB)\n",
            "Collecting lark<0.12.0,>=0.11.1 (from pyquil<4.0.0,>=3.2.0->cirq-rigetti==1.4.0->cirq)\n",
            "  Downloading lark-0.11.3.tar.gz (229 kB)\n",
            "\u001b[2K     \u001b[90m━━━━━━━━━━━━━━━━━━━━━━━━━━━━━━━━━━━━━━━━\u001b[0m \u001b[32m229.9/229.9 kB\u001b[0m \u001b[31m13.0 MB/s\u001b[0m eta \u001b[36m0:00:00\u001b[0m\n",
            "\u001b[?25h  Preparing metadata (setup.py) ... \u001b[?25l\u001b[?25hdone\n",
            "Collecting qcs-api-client<0.22.0,>=0.21.0 (from pyquil<4.0.0,>=3.2.0->cirq-rigetti==1.4.0->cirq)\n",
            "  Downloading qcs_api_client-0.21.6-py3-none-any.whl (151 kB)\n",
            "\u001b[2K     \u001b[90m━━━━━━━━━━━━━━━━━━━━━━━━━━━━━━━━━━━━━━━━\u001b[0m \u001b[32m151.7/151.7 kB\u001b[0m \u001b[31m8.1 MB/s\u001b[0m eta \u001b[36m0:00:00\u001b[0m\n",
            "\u001b[?25hCollecting rpcq<4.0.0,>=3.10.0 (from pyquil<4.0.0,>=3.2.0->cirq-rigetti==1.4.0->cirq)\n",
            "  Downloading rpcq-3.11.0.tar.gz (45 kB)\n",
            "\u001b[2K     \u001b[90m━━━━━━━━━━━━━━━━━━━━━━━━━━━━━━━━━━━━━━━━\u001b[0m \u001b[32m45.6/45.6 kB\u001b[0m \u001b[31m4.8 MB/s\u001b[0m eta \u001b[36m0:00:00\u001b[0m\n",
            "\u001b[?25h  Preparing metadata (setup.py) ... \u001b[?25l\u001b[?25hdone\n",
            "Requirement already satisfied: tenacity<9.0.0,>=8.2.2 in /usr/local/lib/python3.10/dist-packages (from pyquil<4.0.0,>=3.2.0->cirq-rigetti==1.4.0->cirq) (8.3.0)\n",
            "Collecting types-deprecated<2.0.0.0,>=1.2.9.2 (from pyquil<4.0.0,>=3.2.0->cirq-rigetti==1.4.0->cirq)\n",
            "  Downloading types_Deprecated-1.2.9.20240311-py3-none-any.whl (3.5 kB)\n",
            "Collecting types-python-dateutil<3.0.0,>=2.8.19 (from pyquil<4.0.0,>=3.2.0->cirq-rigetti==1.4.0->cirq)\n",
            "  Downloading types_python_dateutil-2.9.0.20240316-py3-none-any.whl (9.7 kB)\n",
            "Collecting types-retry<0.10.0,>=0.9.9 (from pyquil<4.0.0,>=3.2.0->cirq-rigetti==1.4.0->cirq)\n",
            "  Downloading types_retry-0.9.9.4-py3-none-any.whl (2.5 kB)\n",
            "Requirement already satisfied: charset-normalizer<4,>=2 in /usr/local/lib/python3.10/dist-packages (from requests~=2.18->cirq-aqt==1.4.0->cirq) (3.3.2)\n",
            "Requirement already satisfied: idna<4,>=2.5 in /usr/local/lib/python3.10/dist-packages (from requests~=2.18->cirq-aqt==1.4.0->cirq) (3.7)\n",
            "Requirement already satisfied: urllib3<3,>=1.21.1 in /usr/local/lib/python3.10/dist-packages (from requests~=2.18->cirq-aqt==1.4.0->cirq) (2.0.7)\n",
            "Requirement already satisfied: certifi>=2017.4.17 in /usr/local/lib/python3.10/dist-packages (from requests~=2.18->cirq-aqt==1.4.0->cirq) (2024.6.2)\n",
            "Requirement already satisfied: pytz>=2020.1 in /usr/local/lib/python3.10/dist-packages (from pandas->cirq-core==1.4.0->cirq) (2023.4)\n",
            "Requirement already satisfied: tzdata>=2022.1 in /usr/local/lib/python3.10/dist-packages (from pandas->cirq-core==1.4.0->cirq) (2024.1)\n",
            "Requirement already satisfied: mpmath<1.4.0,>=1.1.0 in /usr/local/lib/python3.10/dist-packages (from sympy->cirq-core==1.4.0->cirq) (1.3.0)\n",
            "Requirement already satisfied: wrapt<2,>=1.10 in /usr/local/lib/python3.10/dist-packages (from deprecated<2.0.0,>=1.2.13->pyquil<4.0.0,>=3.2.0->cirq-rigetti==1.4.0->cirq) (1.14.1)\n",
            "Requirement already satisfied: cachetools<6.0,>=2.0.0 in /usr/local/lib/python3.10/dist-packages (from google-auth<3.0.dev0,>=2.14.1->google-api-core[grpc]>=1.14.0->cirq-google==1.4.0->cirq) (5.3.3)\n",
            "Requirement already satisfied: pyasn1-modules>=0.2.1 in /usr/local/lib/python3.10/dist-packages (from google-auth<3.0.dev0,>=2.14.1->google-api-core[grpc]>=1.14.0->cirq-google==1.4.0->cirq) (0.4.0)\n",
            "Requirement already satisfied: rsa<5,>=3.1.4 in /usr/local/lib/python3.10/dist-packages (from google-auth<3.0.dev0,>=2.14.1->google-api-core[grpc]>=1.14.0->cirq-google==1.4.0->cirq) (4.9)\n",
            "Requirement already satisfied: six>=1.5 in /usr/local/lib/python3.10/dist-packages (from python-dateutil>=2.7->matplotlib~=3.0->cirq-core==1.4.0->cirq) (1.16.0)\n",
            "Collecting PyJWT<3.0.0,>=2.4.0 (from qcs-api-client<0.22.0,>=0.21.0->pyquil<4.0.0,>=3.2.0->cirq-rigetti==1.4.0->cirq)\n",
            "  Downloading PyJWT-2.8.0-py3-none-any.whl (22 kB)\n",
            "Collecting attrs (from cirq-core==1.4.0->cirq)\n",
            "  Downloading attrs-21.4.0-py2.py3-none-any.whl (60 kB)\n",
            "\u001b[2K     \u001b[90m━━━━━━━━━━━━━━━━━━━━━━━━━━━━━━━━━━━━━━━━\u001b[0m \u001b[32m60.6/60.6 kB\u001b[0m \u001b[31m6.7 MB/s\u001b[0m eta \u001b[36m0:00:00\u001b[0m\n",
            "\u001b[?25hCollecting httpx<0.24.0,>=0.23.0 (from qcs-api-client<0.22.0,>=0.21.0->pyquil<4.0.0,>=3.2.0->cirq-rigetti==1.4.0->cirq)\n",
            "  Downloading httpx-0.23.3-py3-none-any.whl (71 kB)\n",
            "\u001b[2K     \u001b[90m━━━━━━━━━━━━━━━━━━━━━━━━━━━━━━━━━━━━━━━━\u001b[0m \u001b[32m71.5/71.5 kB\u001b[0m \u001b[31m8.1 MB/s\u001b[0m eta \u001b[36m0:00:00\u001b[0m\n",
            "\u001b[?25hCollecting iso8601<2.0.0,>=1.0.2 (from qcs-api-client<0.22.0,>=0.21.0->pyquil<4.0.0,>=3.2.0->cirq-rigetti==1.4.0->cirq)\n",
            "  Downloading iso8601-1.1.0-py3-none-any.whl (9.9 kB)\n",
            "Collecting pydantic<2.0.0,>=1.7.2 (from qcs-api-client<0.22.0,>=0.21.0->pyquil<4.0.0,>=3.2.0->cirq-rigetti==1.4.0->cirq)\n",
            "  Downloading pydantic-1.10.15-cp310-cp310-manylinux_2_17_x86_64.manylinux2014_x86_64.whl (3.1 MB)\n",
            "\u001b[2K     \u001b[90m━━━━━━━━━━━━━━━━━━━━━━━━━━━━━━━━━━━━━━━━\u001b[0m \u001b[32m3.1/3.1 MB\u001b[0m \u001b[31m14.4 MB/s\u001b[0m eta \u001b[36m0:00:00\u001b[0m\n",
            "\u001b[?25hCollecting retrying<2.0.0,>=1.3.3 (from qcs-api-client<0.22.0,>=0.21.0->pyquil<4.0.0,>=3.2.0->cirq-rigetti==1.4.0->cirq)\n",
            "  Downloading retrying-1.3.4-py3-none-any.whl (11 kB)\n",
            "Collecting rfc3339<7.0,>=6.2 (from qcs-api-client<0.22.0,>=0.21.0->pyquil<4.0.0,>=3.2.0->cirq-rigetti==1.4.0->cirq)\n",
            "  Downloading rfc3339-6.2-py3-none-any.whl (5.5 kB)\n",
            "Requirement already satisfied: toml<0.11.0,>=0.10.2 in /usr/local/lib/python3.10/dist-packages (from qcs-api-client<0.22.0,>=0.21.0->pyquil<4.0.0,>=3.2.0->cirq-rigetti==1.4.0->cirq) (0.10.2)\n",
            "Requirement already satisfied: msgpack<2.0,>=0.6 in /usr/local/lib/python3.10/dist-packages (from rpcq<4.0.0,>=3.10.0->pyquil<4.0.0,>=3.2.0->cirq-rigetti==1.4.0->cirq) (1.0.8)\n",
            "Collecting python-rapidjson (from rpcq<4.0.0,>=3.10.0->pyquil<4.0.0,>=3.2.0->cirq-rigetti==1.4.0->cirq)\n",
            "  Downloading python_rapidjson-1.17-cp310-cp310-manylinux_2_17_x86_64.manylinux2014_x86_64.whl (1.7 MB)\n",
            "\u001b[2K     \u001b[90m━━━━━━━━━━━━━━━━━━━━━━━━━━━━━━━━━━━━━━━━\u001b[0m \u001b[32m1.7/1.7 MB\u001b[0m \u001b[31m20.6 MB/s\u001b[0m eta \u001b[36m0:00:00\u001b[0m\n",
            "\u001b[?25hRequirement already satisfied: pyzmq>=17 in /usr/local/lib/python3.10/dist-packages (from rpcq<4.0.0,>=3.10.0->pyquil<4.0.0,>=3.2.0->cirq-rigetti==1.4.0->cirq) (24.0.1)\n",
            "Collecting ruamel.yaml (from rpcq<4.0.0,>=3.10.0->pyquil<4.0.0,>=3.2.0->cirq-rigetti==1.4.0->cirq)\n",
            "  Downloading ruamel.yaml-0.18.6-py3-none-any.whl (117 kB)\n",
            "\u001b[2K     \u001b[90m━━━━━━━━━━━━━━━━━━━━━━━━━━━━━━━━━━━━━━━━\u001b[0m \u001b[32m117.8/117.8 kB\u001b[0m \u001b[31m12.2 MB/s\u001b[0m eta \u001b[36m0:00:00\u001b[0m\n",
            "\u001b[?25hCollecting httpcore<0.17.0,>=0.15.0 (from httpx<0.24.0,>=0.23.0->qcs-api-client<0.22.0,>=0.21.0->pyquil<4.0.0,>=3.2.0->cirq-rigetti==1.4.0->cirq)\n",
            "  Downloading httpcore-0.16.3-py3-none-any.whl (69 kB)\n",
            "\u001b[2K     \u001b[90m━━━━━━━━━━━━━━━━━━━━━━━━━━━━━━━━━━━━━━━━\u001b[0m \u001b[32m69.6/69.6 kB\u001b[0m \u001b[31m7.4 MB/s\u001b[0m eta \u001b[36m0:00:00\u001b[0m\n",
            "\u001b[?25hCollecting rfc3986[idna2008]<2,>=1.3 (from httpx<0.24.0,>=0.23.0->qcs-api-client<0.22.0,>=0.21.0->pyquil<4.0.0,>=3.2.0->cirq-rigetti==1.4.0->cirq)\n",
            "  Downloading rfc3986-1.5.0-py2.py3-none-any.whl (31 kB)\n",
            "Requirement already satisfied: sniffio in /usr/local/lib/python3.10/dist-packages (from httpx<0.24.0,>=0.23.0->qcs-api-client<0.22.0,>=0.21.0->pyquil<4.0.0,>=3.2.0->cirq-rigetti==1.4.0->cirq) (1.3.1)\n",
            "Requirement already satisfied: pyasn1<0.7.0,>=0.4.6 in /usr/local/lib/python3.10/dist-packages (from pyasn1-modules>=0.2.1->google-auth<3.0.dev0,>=2.14.1->google-api-core[grpc]>=1.14.0->cirq-google==1.4.0->cirq) (0.6.0)\n",
            "Collecting ruamel.yaml.clib>=0.2.7 (from ruamel.yaml->rpcq<4.0.0,>=3.10.0->pyquil<4.0.0,>=3.2.0->cirq-rigetti==1.4.0->cirq)\n",
            "  Downloading ruamel.yaml.clib-0.2.8-cp310-cp310-manylinux_2_17_x86_64.manylinux2014_x86_64.manylinux_2_24_x86_64.whl (526 kB)\n",
            "\u001b[2K     \u001b[90m━━━━━━━━━━━━━━━━━━━━━━━━━━━━━━━━━━━━━━━━\u001b[0m \u001b[32m526.7/526.7 kB\u001b[0m \u001b[31m32.5 MB/s\u001b[0m eta \u001b[36m0:00:00\u001b[0m\n",
            "\u001b[?25hCollecting h11<0.15,>=0.13 (from httpcore<0.17.0,>=0.15.0->httpx<0.24.0,>=0.23.0->qcs-api-client<0.22.0,>=0.21.0->pyquil<4.0.0,>=3.2.0->cirq-rigetti==1.4.0->cirq)\n",
            "  Downloading h11-0.14.0-py3-none-any.whl (58 kB)\n",
            "\u001b[2K     \u001b[90m━━━━━━━━━━━━━━━━━━━━━━━━━━━━━━━━━━━━━━━━\u001b[0m \u001b[32m58.3/58.3 kB\u001b[0m \u001b[31m6.5 MB/s\u001b[0m eta \u001b[36m0:00:00\u001b[0m\n",
            "\u001b[?25hRequirement already satisfied: anyio<5.0,>=3.0 in /usr/local/lib/python3.10/dist-packages (from httpcore<0.17.0,>=0.15.0->httpx<0.24.0,>=0.23.0->qcs-api-client<0.22.0,>=0.21.0->pyquil<4.0.0,>=3.2.0->cirq-rigetti==1.4.0->cirq) (3.7.1)\n",
            "Requirement already satisfied: exceptiongroup in /usr/local/lib/python3.10/dist-packages (from anyio<5.0,>=3.0->httpcore<0.17.0,>=0.15.0->httpx<0.24.0,>=0.23.0->qcs-api-client<0.22.0,>=0.21.0->pyquil<4.0.0,>=3.2.0->cirq-rigetti==1.4.0->cirq) (1.2.1)\n",
            "Building wheels for collected packages: lark, rpcq\n",
            "  Building wheel for lark (setup.py) ... \u001b[?25l\u001b[?25hdone\n",
            "  Created wheel for lark: filename=lark-0.11.3-py2.py3-none-any.whl size=99630 sha256=385f0f91142c5daa04ca5bd5f3a72517ac4ed01e5cf514938a55d3fbd42437dc\n",
            "  Stored in directory: /root/.cache/pip/wheels/7d/72/22/a2dbd112cf05c55adf2e1ead5fba8aa527b848f01cdd99687c\n",
            "  Building wheel for rpcq (setup.py) ... \u001b[?25l\u001b[?25hdone\n",
            "  Created wheel for rpcq: filename=rpcq-3.11.0-py3-none-any.whl size=45967 sha256=0c38a44418ff4b96b1b18fc00e72ecaa962ac8394e04bd3611c92f7e526bba82\n",
            "  Stored in directory: /root/.cache/pip/wheels/91/97/0a/b384d94155345284ec00712ab814cbfb5bc2b631080b4fa4c3\n",
            "Successfully built lark rpcq\n",
            "Installing collected packages: types-retry, rfc3986, rfc3339, lark, types-python-dateutil, types-deprecated, ruamel.yaml.clib, retrying, python-rapidjson, PyJWT, pydantic, iso8601, h11, deprecated, attrs, ruamel.yaml, httpcore, rpcq, httpx, qcs-api-client, cirq-web, cirq-pasqal, cirq-ionq, cirq-aqt, pyquil, cirq-rigetti, cirq\n",
            "  Attempting uninstall: PyJWT\n",
            "    Found existing installation: PyJWT 2.3.0\n",
            "    Uninstalling PyJWT-2.3.0:\n",
            "      Successfully uninstalled PyJWT-2.3.0\n",
            "  Attempting uninstall: pydantic\n",
            "    Found existing installation: pydantic 2.7.3\n",
            "    Uninstalling pydantic-2.7.3:\n",
            "      Successfully uninstalled pydantic-2.7.3\n",
            "  Attempting uninstall: attrs\n",
            "    Found existing installation: attrs 23.2.0\n",
            "    Uninstalling attrs-23.2.0:\n",
            "      Successfully uninstalled attrs-23.2.0\n",
            "\u001b[31mERROR: pip's dependency resolver does not currently take into account all the packages that are installed. This behaviour is the source of the following dependency conflicts.\n",
            "jsonschema 4.19.2 requires attrs>=22.2.0, but you have attrs 21.4.0 which is incompatible.\n",
            "referencing 0.35.1 requires attrs>=22.2.0, but you have attrs 21.4.0 which is incompatible.\u001b[0m\u001b[31m\n",
            "\u001b[0mSuccessfully installed PyJWT-2.8.0 attrs-21.4.0 cirq-1.4.0 cirq-aqt-1.4.0 cirq-ionq-1.4.0 cirq-pasqal-1.4.0 cirq-rigetti-1.4.0 cirq-web-1.4.0 deprecated-1.2.14 h11-0.14.0 httpcore-0.16.3 httpx-0.23.3 iso8601-1.1.0 lark-0.11.3 pydantic-1.10.15 pyquil-3.5.4 python-rapidjson-1.17 qcs-api-client-0.21.6 retrying-1.3.4 rfc3339-6.2 rfc3986-1.5.0 rpcq-3.11.0 ruamel.yaml-0.18.6 ruamel.yaml.clib-0.2.8 types-deprecated-1.2.9.20240311 types-python-dateutil-2.9.0.20240316 types-retry-0.9.9.4\n"
          ]
        }
      ]
    },
    {
      "cell_type": "markdown",
      "metadata": {
        "id": "73dzvmShFbyn"
      },
      "source": [
        "To verify that Cirq is installed in your environment, try to importing cirq and print out a diagram of the Sycamore chip. It should produce a 2x11 grid of qubits."
      ]
    },
    {
      "cell_type": "code",
      "metadata": {
        "id": "dKPHdRSuFYyh",
        "outputId": "b689aef0-e3b0-494e-cfa9-a3e5e292c539",
        "colab": {
          "base_uri": "https://localhost:8080/"
        }
      },
      "source": [
        "# Are these modules installed?\n",
        "\n",
        "!pip show cirq\n",
        "print()\n",
        "\n",
        "!pip show cirq-google\n",
        "print()\n",
        "\n",
        "# It seems so"
      ],
      "execution_count": 2,
      "outputs": [
        {
          "output_type": "stream",
          "name": "stdout",
          "text": [
            "Name: cirq\n",
            "Version: 1.4.0\n",
            "Summary: A framework for creating, editing, and invoking Noisy Intermediate Scale Quantum (NISQ) circuits.\n",
            "Home-page: http://github.com/quantumlib/cirq\n",
            "Author: The Cirq Developers\n",
            "Author-email: cirq-dev@googlegroups.com\n",
            "License: Apache 2\n",
            "Location: /usr/local/lib/python3.10/dist-packages\n",
            "Requires: cirq-aqt, cirq-core, cirq-google, cirq-ionq, cirq-pasqal, cirq-rigetti, cirq-web\n",
            "Required-by: \n",
            "\n",
            "Name: cirq-google\n",
            "Version: 1.4.0\n",
            "Summary: The Cirq module that provides tools and access to the Google Quantum Computing Service\n",
            "Home-page: http://github.com/quantumlib/cirq\n",
            "Author: The Cirq Developers\n",
            "Author-email: cirq-dev@googlegroups.com\n",
            "License: Apache 2\n",
            "Location: /usr/local/lib/python3.10/dist-packages\n",
            "Requires: cirq-core, google-api-core, proto-plus, protobuf\n",
            "Required-by: cirq\n",
            "\n"
          ]
        }
      ]
    },
    {
      "cell_type": "code",
      "source": [
        "# Not possible to print the Fox Tail\n",
        "# Trying instead the Sycamore\n",
        "\n",
        "import cirq\n",
        "import cirq_google\n",
        "print(cirq_google.Sycamore)"
      ],
      "metadata": {
        "colab": {
          "base_uri": "https://localhost:8080/"
        },
        "id": "5EPRVwDJxA4f",
        "outputId": "1833ced9-e6af-428d-f51f-25249952cc6a"
      },
      "execution_count": 3,
      "outputs": [
        {
          "output_type": "stream",
          "name": "stdout",
          "text": [
            "                                             (0, 5)───(0, 6)\n",
            "                                             │        │\n",
            "                                             │        │\n",
            "                                    (1, 4)───(1, 5)───(1, 6)───(1, 7)\n",
            "                                    │        │        │        │\n",
            "                                    │        │        │        │\n",
            "                           (2, 3)───(2, 4)───(2, 5)───(2, 6)───(2, 7)───(2, 8)\n",
            "                           │        │        │        │        │        │\n",
            "                           │        │        │        │        │        │\n",
            "                  (3, 2)───(3, 3)───(3, 4)───(3, 5)───(3, 6)───(3, 7)───(3, 8)───(3, 9)\n",
            "                  │        │        │        │        │        │        │        │\n",
            "                  │        │        │        │        │        │        │        │\n",
            "         (4, 1)───(4, 2)───(4, 3)───(4, 4)───(4, 5)───(4, 6)───(4, 7)───(4, 8)───(4, 9)\n",
            "         │        │        │        │        │        │        │        │\n",
            "         │        │        │        │        │        │        │        │\n",
            "(5, 0)───(5, 1)───(5, 2)───(5, 3)───(5, 4)───(5, 5)───(5, 6)───(5, 7)───(5, 8)\n",
            "         │        │        │        │        │        │        │\n",
            "         │        │        │        │        │        │        │\n",
            "         (6, 1)───(6, 2)───(6, 3)───(6, 4)───(6, 5)───(6, 6)───(6, 7)\n",
            "                  │        │        │        │        │\n",
            "                  │        │        │        │        │\n",
            "                  (7, 2)───(7, 3)───(7, 4)───(7, 5)───(7, 6)\n",
            "                           │        │        │\n",
            "                           │        │        │\n",
            "                           (8, 3)───(8, 4)───(8, 5)\n",
            "                                    │\n",
            "                                    │\n",
            "                                    (9, 4)\n"
          ]
        }
      ]
    },
    {
      "cell_type": "markdown",
      "metadata": {
        "id": "GPjUqrK8DJTq"
      },
      "source": [
        "### Import things we might need and define path to our Google Drive directory"
      ]
    },
    {
      "cell_type": "code",
      "metadata": {
        "scrolled": true,
        "id": "IH296VPyoylw"
      },
      "source": [
        "# Define a googlepath to your googledrive to load/save files.\n",
        "# Modify the example below as needed\n",
        "googlepath = \"drive/My Drive/QuantumInfo\"\n",
        "from cirq.circuits import InsertStrategy\n",
        "\n",
        "import tensorflow as tf\n",
        "import numpy as np\n",
        "from numpy import around, log2, isreal, all, trace, conj, outer\n",
        "from math import factorial, sqrt, pi\n",
        "from cmath import exp\n",
        "from numpy import matrix, eye, count_nonzero, around, sum, save\n",
        "import scipy, sympy\n",
        "from scipy import interpolate\n",
        "from sympy import Symbol\n",
        "import matplotlib.pyplot as plt\n",
        "from matplotlib import gridspec\n",
        "import gc, random, timeit\n",
        "from timeit import default_timer as timer\n",
        "from IPython.display import Markdown, display\n",
        "def printmd(string):\n",
        "    display(Markdown(string))"
      ],
      "execution_count": 4,
      "outputs": []
    },
    {
      "cell_type": "markdown",
      "metadata": {
        "id": "oYGaGXvCByjA"
      },
      "source": [
        "# **Experiment 1**: simplest single-qubit circuit in Cirq\n",
        "From Cirq tutorial and Jack Hidary's book Chapt 6"
      ]
    },
    {
      "cell_type": "code",
      "source": [
        "# My own code\n",
        "\n",
        "# Get a qubit\n",
        "# The '0' is the qubit's coordinate\n",
        "# LineQubit indicates a linear circuit\n",
        "# By default, qubits start as |0>\n",
        "qbit = cirq.LineQubit(0)\n",
        "print(type(qbit))"
      ],
      "metadata": {
        "colab": {
          "base_uri": "https://localhost:8080/"
        },
        "id": "Q2bLk7nixmJK",
        "outputId": "9bff285e-3a93-483a-d04e-26d574355a06"
      },
      "execution_count": null,
      "outputs": [
        {
          "output_type": "stream",
          "name": "stdout",
          "text": [
            "<class 'cirq.devices.line_qubit.LineQubit'>\n"
          ]
        }
      ]
    },
    {
      "cell_type": "code",
      "source": [
        "# Get a circuit\n",
        "circuit = cirq.Circuit()\n",
        "print(type(circuit))"
      ],
      "metadata": {
        "id": "bj6YLyUzysq0",
        "colab": {
          "base_uri": "https://localhost:8080/"
        },
        "outputId": "f97bc357-42c7-485b-a2d3-f3174161c935"
      },
      "execution_count": null,
      "outputs": [
        {
          "output_type": "stream",
          "name": "stdout",
          "text": [
            "<class 'cirq.circuits.circuit.Circuit'>\n"
          ]
        }
      ]
    },
    {
      "cell_type": "code",
      "source": [
        "# An X gate (2x2 Pauli sigma_x matrix) is attached to the circuit\n",
        "# The 'qbit' indicates to place it after qbit\n",
        "circuit.append( cirq.X(qbit) )"
      ],
      "metadata": {
        "id": "rgiUb5ajyvSP"
      },
      "execution_count": null,
      "outputs": []
    },
    {
      "cell_type": "code",
      "source": [
        "# Run a simple simulation that extracts the wavefunction of this state\n",
        "# With .simulate() we can check the qubits at each stage. Not true in real life!\n",
        "\n",
        "# Initialize a simulation for our circuit\n",
        "sim = cirq.Simulator()\n",
        "\n",
        "# Simulate the circuit when the initial state is |0> or |1>\n",
        "# (one of these must always be commented)\n",
        "# result = sim.simulate(circuit, initial_state=0)\n",
        "resultSimulate = sim.simulate(circuit, initial_state=1)\n",
        "\n",
        "# Hrer simulate() admits an argument\n",
        "# initial_state in case you don't want\n",
        "# to start with a |0>\n",
        "# result = sim.simulate(circuit, initial_state=1)"
      ],
      "metadata": {
        "id": "8wshWjnzzrBd"
      },
      "execution_count": null,
      "outputs": []
    },
    {
      "cell_type": "code",
      "source": [
        "# Once the simulator is invoked, it is possible\n",
        "# to print further stages of the circuit\n",
        "print(circuit)\n",
        "\n",
        "# The X gate will act on a qubit\n",
        "# whose coordinate  in the cicuit is '0'"
      ],
      "metadata": {
        "colab": {
          "base_uri": "https://localhost:8080/"
        },
        "id": "10KIcotsmeuX",
        "outputId": "5acf5c99-47e0-4dde-e217-09cf7c711570"
      },
      "execution_count": null,
      "outputs": [
        {
          "output_type": "stream",
          "name": "stdout",
          "text": [
            "0: ───X───\n"
          ]
        }
      ]
    },
    {
      "cell_type": "code",
      "source": [
        "# Projects the final-state vector into the Bloch sphere\n",
        "printmd(\"\\n**Bloch Sphere of the qubit in the final state:**\")\n",
        "# The final_state_vector returns the state vector\n",
        "# resulting from acting operations on a state. The '0'\n",
        "# indicates to apply this to the qubit at location '0'\n",
        "state = cirq.bloch_vector_from_state_vector(resultSimulate.final_state_vector,0)\n",
        "\n",
        "#Prints Bloch sphere coordinates of the final state\n",
        "print(\"x: \", around(state[0], 4), \" y: \", around(state[1], 4),\n",
        "      \" z: \", around(state[2], 4))\n",
        "printmd(\"\\n**Indeed, X acting on |0> (North Pole, +1) gives |1>, which is the South Pole (-1) of the Bloch sphere**\")\n",
        "printmd(\"\\n**Had we chosen |1> as initial state, X acting on it would return |0> with (x,y,z)=(0,0,+1)**\")\n"
      ],
      "metadata": {
        "colab": {
          "base_uri": "https://localhost:8080/",
          "height": 116
        },
        "outputId": "d07ab316-346f-4ac8-b5b6-f509eccc27d5",
        "id": "lqb7vei4nm9-"
      },
      "execution_count": null,
      "outputs": [
        {
          "output_type": "display_data",
          "data": {
            "text/plain": [
              "<IPython.core.display.Markdown object>"
            ],
            "text/markdown": "\n**Bloch Sphere of the qubit in the final state:**"
          },
          "metadata": {}
        },
        {
          "output_type": "stream",
          "name": "stdout",
          "text": [
            "x:  0.0  y:  0.0  z:  1.0\n"
          ]
        },
        {
          "output_type": "display_data",
          "data": {
            "text/plain": [
              "<IPython.core.display.Markdown object>"
            ],
            "text/markdown": "\n**Indeed, X acting on |0> (North Pole, +1) gives |1>, which is the South Pole (-1) of the Bloch sphere**"
          },
          "metadata": {}
        },
        {
          "output_type": "display_data",
          "data": {
            "text/plain": [
              "<IPython.core.display.Markdown object>"
            ],
            "text/markdown": "\n**Had we chosen |1> as initial state, X acting on it would return |0> with (x,y,z)=(0,0,+1)**"
          },
          "metadata": {}
        }
      ]
    },
    {
      "cell_type": "code",
      "source": [
        "# Add a measurement (symbol 'M') at the end of the circuit:\n",
        "circuit.append(cirq.measure(qbit, key=\"Final state\"))\n",
        "# Display the circuit:\n",
        "print(circuit)"
      ],
      "metadata": {
        "id": "HBViB55u0y8V",
        "colab": {
          "base_uri": "https://localhost:8080/"
        },
        "outputId": "c1db8087-03f4-4903-da1a-d04ad38d726d"
      },
      "execution_count": null,
      "outputs": [
        {
          "output_type": "stream",
          "name": "stdout",
          "text": [
            "0: ───X───M('Final state')───\n"
          ]
        }
      ]
    },
    {
      "cell_type": "code",
      "source": [
        "# Invoke the Cirq quantum simulator again\n",
        "# to execute the circuit multiple times:\n",
        "manysimulator = cirq.Simulator()\n",
        "\n",
        "# What's the big deal with the simulator?\n",
        "# That we don't prepare the system again in the |0>\n",
        "# state in order to repeat the experiment!"
      ],
      "metadata": {
        "id": "0UENFJ0e09Xf"
      },
      "execution_count": null,
      "outputs": []
    },
    {
      "cell_type": "code",
      "source": [
        "# Run the circuit several times:\n",
        "# (With .run(), as opposed to .simulate(), we\n",
        "# only get to see the final result in the circuit)\n",
        "resultRun = manysimulator.run(circuit, repetitions=10)\n",
        "# With .run() the qubits are always initialized as |0>"
      ],
      "metadata": {
        "id": "GJFWgbcV1AY4"
      },
      "execution_count": null,
      "outputs": []
    },
    {
      "cell_type": "code",
      "source": [
        "# Print the results:\n",
        "printmd(\"\\n**Results of 10 trials:**\")\n",
        "print(resultRun)\n",
        "printmd(\"\\n**X acting on |0> always returns |1>**\")"
      ],
      "metadata": {
        "colab": {
          "base_uri": "https://localhost:8080/",
          "height": 93
        },
        "id": "SIKRBMd31DA-",
        "outputId": "be1591b4-c86b-4bde-f7a6-fdd9674cebc3"
      },
      "execution_count": null,
      "outputs": [
        {
          "output_type": "display_data",
          "data": {
            "text/plain": [
              "<IPython.core.display.Markdown object>"
            ],
            "text/markdown": "\n**Results of 10 trials:**"
          },
          "metadata": {}
        },
        {
          "output_type": "stream",
          "name": "stdout",
          "text": [
            "Final state=1111111111\n"
          ]
        },
        {
          "output_type": "display_data",
          "data": {
            "text/plain": [
              "<IPython.core.display.Markdown object>"
            ],
            "text/markdown": "\n**X acting on |0> always returns |1>**"
          },
          "metadata": {}
        }
      ]
    },
    {
      "cell_type": "markdown",
      "metadata": {
        "id": "JE642a0oEBzP"
      },
      "source": [
        "# **Experiment 2**: Circuit to create a Bell state in Cirq\n",
        "From Jack Hidary's book Chapt 6"
      ]
    },
    {
      "cell_type": "code",
      "source": [
        "# Define 'qubit' as a list of two 1-qubits\n",
        "# Both qubits are chosen in |0>\n",
        "qubit = [cirq.LineQubit(0),cirq.LineQubit(1)]\n",
        "print(qubit)\n",
        "print(type(qubit))"
      ],
      "metadata": {
        "colab": {
          "base_uri": "https://localhost:8080/"
        },
        "id": "VzlEep4y1H34",
        "outputId": "ae4011e9-670c-4fab-f1d6-f6ecbc3cd3fd"
      },
      "execution_count": null,
      "outputs": [
        {
          "output_type": "stream",
          "name": "stdout",
          "text": [
            "[cirq.LineQubit(0), cirq.LineQubit(1)]\n",
            "<class 'list'>\n"
          ]
        }
      ]
    },
    {
      "cell_type": "code",
      "source": [
        "# Define a cirq circuit\n",
        "circuit = cirq.Circuit()"
      ],
      "metadata": {
        "id": "nP46R8ot1S5Z"
      },
      "execution_count": null,
      "outputs": []
    },
    {
      "cell_type": "code",
      "source": [
        "# Add a Hadamard gate to qubit 0, afterwards, a CNOT gate to both\n",
        "# Notice Hadamard is cirq.H and the controlled-not is cirq.CNOT\n",
        "# In qubit[i], the i iterates over the qubit number\n",
        "circuit.append([\n",
        "    cirq.H(qubit[0]),\n",
        "    cirq.CNOT(qubit[0], qubit[1])\n",
        "             ])"
      ],
      "metadata": {
        "id": "kSdXKJGC1pJ3"
      },
      "execution_count": null,
      "outputs": []
    },
    {
      "cell_type": "code",
      "source": [
        "# Invoke the simulator\n",
        "sim = cirq.Simulator()\n",
        "result = sim.simulate(circuit)\n",
        "\n",
        "# Printing is now possible\n",
        "# Hadarmd appears as H, controlled-not appears\n",
        "# as @X where @ denotes the control qubit\n",
        "# After all, the nontrivial part of CNOT is the\n",
        "# X gate (Pauli-x) in the 2nd qubit\n",
        "print(circuit)"
      ],
      "metadata": {
        "colab": {
          "base_uri": "https://localhost:8080/"
        },
        "id": "b0IawWtR2PDq",
        "outputId": "05c4e523-bb87-4feb-be80-87bdc38ef1c4"
      },
      "execution_count": null,
      "outputs": [
        {
          "output_type": "stream",
          "name": "stdout",
          "text": [
            "0: ───H───@───\n",
            "          │\n",
            "1: ───────X───\n"
          ]
        }
      ]
    },
    {
      "cell_type": "code",
      "source": [
        "printmd(\"\\n**|q0> final state Bloch coordinates:**\")\n",
        "state = cirq.bloch_vector_from_state_vector(result.final_state_vector,0)\n",
        "print(\"x: \", around(state[0], 4), \" y: \", around(state[1], 4), \" z: \", around(state[2], 4))\n",
        "# Center of the Bloch sphere, this happens for entangled states"
      ],
      "metadata": {
        "colab": {
          "base_uri": "https://localhost:8080/",
          "height": 64
        },
        "id": "x7XlvkY04YCV",
        "outputId": "e0cc5368-5f2f-49f4-87b7-eb7b3cd48e09"
      },
      "execution_count": null,
      "outputs": [
        {
          "output_type": "display_data",
          "data": {
            "text/plain": [
              "<IPython.core.display.Markdown object>"
            ],
            "text/markdown": "\n**|q0> final state Bloch coordinates:**"
          },
          "metadata": {}
        },
        {
          "output_type": "stream",
          "name": "stdout",
          "text": [
            "x:  0.0  y:  0.0  z:  0.0\n"
          ]
        }
      ]
    },
    {
      "cell_type": "code",
      "source": [
        "printmd(\"\\n**|q1> final state Bloch coordinates:**\")\n",
        "state = cirq.bloch_vector_from_state_vector(result.final_state_vector,1)\n",
        "print(\"x: \", around(state[0], 4), \" y: \", around(state[1], 4), \" z: \", around(state[2], 4))\n",
        "# Center of the Bloch sphere, this happens for entangled states"
      ],
      "metadata": {
        "colab": {
          "base_uri": "https://localhost:8080/",
          "height": 64
        },
        "id": "YxWU0AuA4eVn",
        "outputId": "4aa35cdb-a673-4602-8cc2-ce3efa891c71"
      },
      "execution_count": null,
      "outputs": [
        {
          "output_type": "display_data",
          "data": {
            "text/plain": [
              "<IPython.core.display.Markdown object>"
            ],
            "text/markdown": "\n**|q1> final state Bloch coordinates:**"
          },
          "metadata": {}
        },
        {
          "output_type": "stream",
          "name": "stdout",
          "text": [
            "x:  0.0  y:  0.0  z:  0.0\n"
          ]
        }
      ]
    },
    {
      "cell_type": "code",
      "source": [
        "# Add a measurement at the end of the circuit\n",
        "# (puts a 'M' after each qubit)\n",
        "circuit.append(cirq.measure(*qubit, key=\"Final state\"))\n",
        "\n",
        "# Display the circuit:\n",
        "printmd(\"\\n**Circuit: (Hx1) followed by CNOT**\")\n",
        "print(circuit)"
      ],
      "metadata": {
        "colab": {
          "base_uri": "https://localhost:8080/",
          "height": 98
        },
        "id": "Mq0Ooi8d4qBG",
        "outputId": "5a98258f-3489-4def-b656-b84fdee14679"
      },
      "execution_count": null,
      "outputs": [
        {
          "output_type": "display_data",
          "data": {
            "text/plain": [
              "<IPython.core.display.Markdown object>"
            ],
            "text/markdown": "\n**Circuit: (Hx1) followed by CNOT**"
          },
          "metadata": {}
        },
        {
          "output_type": "stream",
          "name": "stdout",
          "text": [
            "0: ───H───@───M('Final state')───\n",
            "          │   │\n",
            "1: ───────X───M──────────────────\n"
          ]
        }
      ]
    },
    {
      "cell_type": "code",
      "metadata": {
        "id": "tTlKSim3ELQu"
      },
      "source": [
        "# New simulator, performs 10 measurements\n",
        "simulator10 = cirq.Simulator()\n",
        "\n",
        "# Simulate the circuit several times:\n",
        "result = simulator10.run(circuit, repetitions=10)"
      ],
      "execution_count": null,
      "outputs": []
    },
    {
      "cell_type": "code",
      "source": [
        "# Print the results\n",
        "printmd(\"\\n**Results:**\")\n",
        "print(result)\n",
        "# The the 1st (2nd) list is for the 1st (2nd) qubit"
      ],
      "metadata": {
        "colab": {
          "base_uri": "https://localhost:8080/",
          "height": 64
        },
        "id": "Bhvg9-eF5lB2",
        "outputId": "6ea513e6-a4f3-455a-9b5c-3700443d36d8"
      },
      "execution_count": null,
      "outputs": [
        {
          "output_type": "display_data",
          "data": {
            "text/plain": [
              "<IPython.core.display.Markdown object>"
            ],
            "text/markdown": "\n**Results:**"
          },
          "metadata": {}
        },
        {
          "output_type": "stream",
          "name": "stdout",
          "text": [
            "Final state=0110110001, 0110110001\n"
          ]
        }
      ]
    },
    {
      "cell_type": "markdown",
      "metadata": {
        "id": "hqGXI5OgimMa"
      },
      "source": [
        "# **Experiment 3**: Circuit to SWAP two qubit states"
      ]
    },
    {
      "cell_type": "code",
      "source": [
        "# Define two qubits and a circuit\n",
        "\n",
        "# 'qubit' is clearly just a list of two qubits\n",
        "qubit = [cirq.LineQubit(0),cirq.LineQubit(1)]\n",
        "circuit = cirq.Circuit()"
      ],
      "metadata": {
        "id": "4xTvVKlZZs-t"
      },
      "execution_count": null,
      "outputs": []
    },
    {
      "cell_type": "code",
      "source": [
        "# An H-gate prepares |0>, the first qubit, into a |+> ket\n",
        "circuit.append([\n",
        "    cirq.H(qubit[0])\n",
        "    ])\n",
        "print(circuit)"
      ],
      "metadata": {
        "colab": {
          "base_uri": "https://localhost:8080/"
        },
        "id": "-pB_grm-Z19P",
        "outputId": "09f5774f-7cec-472a-bad2-d60de448fbd8"
      },
      "execution_count": null,
      "outputs": [
        {
          "output_type": "stream",
          "name": "stdout",
          "text": [
            "0: ───H───\n"
          ]
        }
      ]
    },
    {
      "cell_type": "code",
      "source": [
        "# Define the symbol 't'\n",
        "symbol = Symbol(\"t\")\n",
        "# So far 't' is a label"
      ],
      "metadata": {
        "id": "xqv6xCmIaIig"
      },
      "execution_count": null,
      "outputs": []
    },
    {
      "cell_type": "code",
      "source": [
        "# Add a parameterized XPowGate to obtain what we will call\n",
        "# the initial state of qubit 1:\n",
        "circuit.append([\n",
        "    cirq.XPowGate(exponent=symbol)(qubit[1])\n",
        "    ])\n",
        "print(circuit)\n",
        "# Since 't' has not been chosen, X^t |q1>\n",
        "# is not specified yet"
      ],
      "metadata": {
        "colab": {
          "base_uri": "https://localhost:8080/"
        },
        "id": "noicXfq3aNA9",
        "outputId": "c22c2641-9e62-41fb-c2a6-2b3ccbb4887d"
      },
      "execution_count": null,
      "outputs": [
        {
          "output_type": "stream",
          "name": "stdout",
          "text": [
            "0: ───H─────\n",
            "\n",
            "1: ───X^t───\n"
          ]
        }
      ]
    },
    {
      "cell_type": "code",
      "source": [
        "# In the next step, three CNOT gates are added\n",
        "# The overall effect is known as a SWAP gate\n",
        "circuit.append([\n",
        "    cirq.CNOT(qubit[0], qubit[1]),\n",
        "    cirq.CNOT(qubit[1], qubit[0]),\n",
        "    cirq.CNOT(qubit[0], qubit[1])\n",
        "               ])\n",
        "print(circuit)"
      ],
      "metadata": {
        "colab": {
          "base_uri": "https://localhost:8080/"
        },
        "id": "HIdYFDo_aZgq",
        "outputId": "6b3d120e-d8c7-4a20-b10e-eb2a010e6e5f"
      },
      "execution_count": null,
      "outputs": [
        {
          "output_type": "stream",
          "name": "stdout",
          "text": [
            "0: ───H─────@───X───@───\n",
            "            │   │   │\n",
            "1: ───X^t───X───@───X───\n"
          ]
        }
      ]
    },
    {
      "cell_type": "code",
      "source": [
        "# Two measurements are made on the qubits. But not simultaneously,\n",
        "# first on |q1> and later on |q0>\n",
        "circuit.append(cirq.measure(qubit[1], key='q1'))\n",
        "circuit.append(cirq.measure(qubit[0], key='q0'), strategy=InsertStrategy.NEW)\n",
        "print(circuit)\n",
        "# The InsertStrategy.NEW tells the code to append the measurement\n",
        "# gate in a posterior, newly created moment (in a posterior time slice)"
      ],
      "metadata": {
        "colab": {
          "base_uri": "https://localhost:8080/"
        },
        "id": "wXKhtT8Uatv4",
        "outputId": "7817b498-8439-4bfa-d447-9ba6be98074f"
      },
      "execution_count": null,
      "outputs": [
        {
          "output_type": "stream",
          "name": "stdout",
          "text": [
            "0: ───H─────@───X───@─────────────M('q0')───\n",
            "            │   │   │\n",
            "1: ───X^t───X───@───X───M('q1')─────────────\n"
          ]
        }
      ]
    },
    {
      "cell_type": "markdown",
      "source": [
        "**Side note:** Refer to Section 6.2. There's a swap of states |q0> and |q1>. Then one way of performing a measurement on |q0> is to perform it on |q1> after the action of the composite SWAP gate. Old QM would say that a 2nd measurement made on |q0> will just repeat the same result due to \"wavefunction collapse\". In this case that does not happen, because |q0> acquired the state of |q1> upon the action of the SWAP."
      ],
      "metadata": {
        "id": "tWUQCvlaMpcY"
      }
    },
    {
      "cell_type": "code",
      "source": [
        "# Prepare a sweep list for the 't' variable\n",
        "sweep = cirq.Linspace(key=symbol.name, start=0.0, stop=1.0, length=3)\n",
        "print(sweep)\n",
        "# For these t-values, the XPowGate becomes, respectively, the identity,\n",
        "# (1+iX)/sqrt(2), and iX. Let me remind you that XPowGate is not X^t,\n",
        "# but exp(iXpit/2)."
      ],
      "metadata": {
        "colab": {
          "base_uri": "https://localhost:8080/"
        },
        "id": "ct053t6Aa_kc",
        "outputId": "e23c1ecb-67d1-44b8-8c22-a2bb0fe283e7"
      },
      "execution_count": null,
      "outputs": [
        {
          "output_type": "stream",
          "name": "stdout",
          "text": [
            "Sweep:\n",
            "{'t': 0.0}\n",
            "{'t': 0.5}\n",
            "{'t': 1.0}\n"
          ]
        }
      ]
    },
    {
      "cell_type": "code",
      "source": [
        "# Run the circuit for all values in the sweep list for 't'\n",
        "sim = cirq.Simulator()\n",
        "results = sim.run_sweep(circuit, sweep, repetitions=50)"
      ],
      "metadata": {
        "id": "gMUZJ9WObGXi"
      },
      "execution_count": null,
      "outputs": []
    },
    {
      "cell_type": "code",
      "metadata": {
        "id": "hZZfZMbwi1en",
        "outputId": "7c2e4c13-e9e7-43c8-e8f0-396b9d96915c",
        "colab": {
          "base_uri": "https://localhost:8080/",
          "height": 261
        }
      },
      "source": [
        "# Printing the results\n",
        "# For each t-value there was an initial state\n",
        "# for |q1> (with |q0>=|+> in all three). What is\n",
        "# printed is the measurement on the two qubits\n",
        "\n",
        "printmd(\"\\n**Results for t = 0:**\")\n",
        "print(results[0])\n",
        "print()\n",
        "\n",
        "printmd(\"\\n**Results for t = 0.5:**\")\n",
        "print(results[1])\n",
        "print()\n",
        "\n",
        "printmd(\"\\n**Results for t = 1:**\")\n",
        "print(results[2])\n",
        "print()"
      ],
      "execution_count": null,
      "outputs": [
        {
          "output_type": "display_data",
          "data": {
            "text/plain": [
              "<IPython.core.display.Markdown object>"
            ],
            "text/markdown": "\n**Results for t = 0:**"
          },
          "metadata": {}
        },
        {
          "output_type": "stream",
          "name": "stdout",
          "text": [
            "q0=00000000000000000000000000000000000000000000000000\n",
            "q1=11010110100110100100011001110101001001111011010100\n",
            "\n"
          ]
        },
        {
          "output_type": "display_data",
          "data": {
            "text/plain": [
              "<IPython.core.display.Markdown object>"
            ],
            "text/markdown": "\n**Results for t = 0.5:**"
          },
          "metadata": {}
        },
        {
          "output_type": "stream",
          "name": "stdout",
          "text": [
            "q0=01101011101011110010011111001110001010101000100011\n",
            "q1=00011001111011100000011110010111001011011001101111\n",
            "\n"
          ]
        },
        {
          "output_type": "display_data",
          "data": {
            "text/plain": [
              "<IPython.core.display.Markdown object>"
            ],
            "text/markdown": "\n**Results for t = 1:**"
          },
          "metadata": {}
        },
        {
          "output_type": "stream",
          "name": "stdout",
          "text": [
            "q0=11111111111111111111111111111111111111111111111111\n",
            "q1=00111111011100110000010010111010010000101111110110\n",
            "\n"
          ]
        }
      ]
    },
    {
      "cell_type": "markdown",
      "source": [
        "**Explanation:**\n",
        "- For t=0.0, the initial states are |q0>=|+> and |q1>=|0>. Yet repeated measurements (not just one) on the qubits indicate that |q0>=|0> and |q1>=|+> at the end. We know this because |q0> seems to return 0 always, while |q1> returns |0> and |1> with equal, 50% chance. The initial states of the qubits have been effectively swapped.\n",
        "- For t=0.5, the initial states are |q0>=|+> and |q1>=|i> (spin-up in the y-direction), with measurements indicating at the end that |q0>=|i> and |q1>=|+>. Notice that both contain 50% of 0's and %50's of 1s, yet the bits don't coincide every time, therefore they can't be both |+>.\n",
        "- For t=1.0, the initial states are |q0>=|+> and |q1>=|1>, with measurements indicating at the end that |q0>=|1> and |q1>=|+>."
      ],
      "metadata": {
        "id": "j4CFY31GbXjy"
      }
    },
    {
      "cell_type": "markdown",
      "metadata": {
        "id": "8DTBQ4nuoyl3"
      },
      "source": [
        "# **Experiment 4**: Quantum Teleportation\n",
        "Quantum Teleportation is a process by which a quantum state can be transmitted\n",
        "by sending only two classical bits of information. This is accomplished by\n",
        "pre-sharing an entangled state between the sender (Alice) and the receiver\n",
        "(Bob). This entangled state allows the receiver (Bob) of the two classical\n",
        "bits of information to possess a qubit with the same state as the one held by\n",
        "the sender (Alice).\n",
        "\n",
        "In the following example output, qubit 0 (the Message) is set to a random state\n",
        "by applying X and Y gates. By sending two classical bits of information after\n",
        "a Bell State Measurement of qubit 0 (the Message) and qubit 1 (Alice's entangled qubit), the\n",
        "final state of qubit 2 (Bob's entangled qubit) will be identical to the\n",
        "original random state of qubit 0 (the Message). This is only possible given\n",
        "that an entangled state is pre-shared between Alice and Bob.\n",
        "\n",
        "Example adapted from the Cirq tutorials"
      ]
    },
    {
      "cell_type": "code",
      "source": [
        "# One first defines three qubits. Before anything,\n",
        "# here is a list (filled with zeroes for now)\n",
        "qubit=[0,0,0]\n",
        "\n",
        "# Now replace the first 0 with a NamedQubit,\n",
        "# the 'message' qubit (lists are mutable)\n",
        "qubit[0]=cirq.NamedQubit('Message')\n",
        "\n",
        "# Replace the second qubit with another one\n",
        "# named Alice\n",
        "qubit[1] = cirq.NamedQubit('QAlice')\n",
        "\n",
        "# Finally, the last zero is replaced with\n",
        "# a qubit for Bob\n",
        "qubit[2] = cirq.NamedQubit('QBob')\n",
        "\n",
        "print(qubit)"
      ],
      "metadata": {
        "colab": {
          "base_uri": "https://localhost:8080/"
        },
        "id": "4KkS49nSSYfz",
        "outputId": "4bd17b71-ade1-4643-fbfa-e86784350b04"
      },
      "execution_count": 5,
      "outputs": [
        {
          "output_type": "stream",
          "name": "stdout",
          "text": [
            "[cirq.NamedQubit('Message'), cirq.NamedQubit('QAlice'), cirq.NamedQubit('QBob')]\n"
          ]
        }
      ]
    },
    {
      "cell_type": "code",
      "source": [
        "# Define a circuit\n",
        "circuit = cirq.Circuit()\n",
        "\n",
        "# A Bell state is created with Alice and Bob's qubits\n",
        "# (as seen in Experiment #2, one applies a H and CNOT gates\n",
        "# to an initial |0,0> state)\n",
        "circuit.append([\n",
        "    cirq.H(qubit[1]),\n",
        "    cirq.CNOT(qubit[1], qubit[2])\n",
        "    ])\n",
        "print(circuit)"
      ],
      "metadata": {
        "id": "PLeWehduTMCg",
        "colab": {
          "base_uri": "https://localhost:8080/"
        },
        "outputId": "16788d14-78b5-431a-921f-2956b3f6bfb6"
      },
      "execution_count": 6,
      "outputs": [
        {
          "output_type": "stream",
          "name": "stdout",
          "text": [
            "QAlice: ───H───@───\n",
            "               │\n",
            "QBob: ─────────X───\n"
          ]
        }
      ]
    },
    {
      "cell_type": "code",
      "source": [
        "# The message qubit is set to a random state\n",
        "\n",
        "# First get two random real numbers between\n",
        "# 0 and 1. Take Message, originally in |0>,\n",
        "# and apply X^random times Y^random'\n",
        "ranX = random.random()\n",
        "ranY = random.random()\n",
        "\n",
        "# Append to the message qubit an X-gate to a\n",
        "# random power, followed by a Y-gate to a random\n",
        "# power. It certainly randomizes qubit[0]!\n",
        "circuit.append([\n",
        "    cirq.X(qubit[0])**ranX,\n",
        "    cirq.Y(qubit[0])**ranY\n",
        "    ])"
      ],
      "metadata": {
        "id": "yVmIOKwTTmO7"
      },
      "execution_count": 7,
      "outputs": []
    },
    {
      "cell_type": "code",
      "source": [
        "# So far, the circuit looks like this\n",
        "print(circuit)\n",
        "# Notice the message gate did not participate in\n",
        "# Alice and Bob's entanglement"
      ],
      "metadata": {
        "colab": {
          "base_uri": "https://localhost:8080/"
        },
        "id": "-tKgHmGNUGN-",
        "outputId": "cc57a932-903a-46d8-f5c7-3c1a0c65fd6e"
      },
      "execution_count": 8,
      "outputs": [
        {
          "output_type": "stream",
          "name": "stdout",
          "text": [
            "Message: ───X^0.801───Y^0.504───\n",
            "\n",
            "QAlice: ────H─────────@─────────\n",
            "                      │\n",
            "QBob: ────────────────X─────────\n"
          ]
        }
      ]
    },
    {
      "cell_type": "code",
      "source": [
        "# In the next step, the operation (H*1)CNOT is\n",
        "# applied to the message and Alice's qubits. It\n",
        "# first does CNOT followed by a H-gate on the\n",
        "# message qubit\n",
        "circuit.append([\n",
        "    cirq.CNOT(qubit[0],qubit[1]),\n",
        "    cirq.H(qubit[0])\n",
        "    ])\n",
        "print(circuit)\n",
        "# U rotates |beta00> to |00> etc. It is the\n",
        "# inverse of Experiment #2's operation in Eq.(14),\n",
        "# which went as CNOT*(H x 1). We are bringing\n",
        "# |message,Alice> to the computational basis"
      ],
      "metadata": {
        "colab": {
          "base_uri": "https://localhost:8080/"
        },
        "id": "MAPSWqmCUtSL",
        "outputId": "105ed4a6-47f2-46e9-ee0c-ef9da3a76271"
      },
      "execution_count": 9,
      "outputs": [
        {
          "output_type": "stream",
          "name": "stdout",
          "text": [
            "Message: ───X^0.801───Y^0.504───@───H───\n",
            "                                │\n",
            "QAlice: ────H─────────@─────────X───────\n",
            "                      │\n",
            "QBob: ────────────────X─────────────────\n"
          ]
        }
      ]
    },
    {
      "cell_type": "code",
      "source": [
        "# Next, a measurement is added on the message and\n",
        "# Alice qubits\n",
        "circuit.append(cirq.measure(qubit[0], qubit[1]))\n",
        "print(circuit)\n",
        "# After all, measurements make sense in the comp. basis"
      ],
      "metadata": {
        "colab": {
          "base_uri": "https://localhost:8080/"
        },
        "id": "HtgWoZ4QVuUg",
        "outputId": "d34d8e8f-107f-4149-b7eb-425c80b83f62"
      },
      "execution_count": 10,
      "outputs": [
        {
          "output_type": "stream",
          "name": "stdout",
          "text": [
            "Message: ───X^0.801───Y^0.504───@───H───M───\n",
            "                                │       │\n",
            "QAlice: ────H─────────@─────────X───────M───\n",
            "                      │\n",
            "QBob: ────────────────X─────────────────────\n"
          ]
        }
      ]
    },
    {
      "cell_type": "code",
      "source": [
        "# In another operation, a CNOT on Alice and Bob is\n",
        "# applied, followed by a contro-Z on the message\n",
        "# and Bob's qubits\n",
        "circuit.append([\n",
        "    cirq.CNOT(qubit[1], qubit[2]),\n",
        "    cirq.CZ(qubit[0], qubit[2])\n",
        "    ])\n",
        "print(circuit)"
      ],
      "metadata": {
        "colab": {
          "base_uri": "https://localhost:8080/"
        },
        "id": "vWNBIrGuW2cm",
        "outputId": "1110f32d-8d35-4ddd-df06-b1875ded9661"
      },
      "execution_count": null,
      "outputs": [
        {
          "output_type": "stream",
          "name": "stdout",
          "text": [
            "msg: ──────X^0.544───Y^0.651───@───H───M───────@───\n",
            "                               │       │       │\n",
            "qalice: ───H─────────@─────────X───────M───@───┼───\n",
            "                     │                     │   │\n",
            "qbob: ───────────────X─────────────────────X───@───\n"
          ]
        }
      ]
    },
    {
      "cell_type": "code",
      "source": [
        "# Initialize the simulator\n",
        "sim = cirq.Simulator()"
      ],
      "metadata": {
        "id": "CXl0r-Q5XRq5"
      },
      "execution_count": 11,
      "outputs": []
    },
    {
      "cell_type": "code",
      "source": [
        "# Give a name 'q0' to the message qubit\n",
        "q0 = cirq.LineQubit(0)\n",
        "\n",
        "# The actual message (a string of classical bits) is a simulation\n",
        "# acting on the circuit. One acts on |q0> and |q1> with a new\n",
        "# pair of random powers of the X- and Y-gates\n",
        "message = sim.simulate(\n",
        "    cirq.Circuit(\n",
        "        [cirq.X(q0)**ranX, cirq.Y(q0)**ranY]\n",
        "        )\n",
        "    )"
      ],
      "metadata": {
        "id": "Q1x1RkqBXqUI"
      },
      "execution_count": 12,
      "outputs": []
    },
    {
      "cell_type": "code",
      "source": [
        "# For instance, in this run the initial message is\n",
        "print(message)"
      ],
      "metadata": {
        "colab": {
          "base_uri": "https://localhost:8080/"
        },
        "id": "sV6DZMrxH-B9",
        "outputId": "4fd12e1f-06ac-4985-febb-aee3cf363520"
      },
      "execution_count": 13,
      "outputs": [
        {
          "output_type": "stream",
          "name": "stdout",
          "text": [
            "measurements: (no measurements)\n",
            "\n",
            "qubits: (cirq.LineQubit(0),)\n",
            "output vector: (-0.701-0.121j)|0⟩ + (0.492+0.503j)|1⟩\n",
            "\n",
            "phase:\n",
            "output vector: |⟩\n"
          ]
        }
      ]
    },
    {
      "cell_type": "code",
      "source": [
        "# Here is the 'message' as a projection on the Bloch sphere\n",
        "printmd(\"\\n**Bloch Sphere of the Message qubit in the initial state:**\")\n",
        "expected = cirq.bloch_vector_from_state_vector(message.final_state_vector,0)\n",
        "print(\"x: \", around(expected[0], 4), \" y: \", around(expected[1], 4),\n",
        "      \" z: \", around(expected[2], 4))"
      ],
      "metadata": {
        "colab": {
          "base_uri": "https://localhost:8080/",
          "height": 64
        },
        "id": "7JC0fmHBYUrZ",
        "outputId": "3bf75735-a90b-4b32-f68e-1881e9cb9914"
      },
      "execution_count": 14,
      "outputs": [
        {
          "output_type": "display_data",
          "data": {
            "text/plain": [
              "<IPython.core.display.Markdown object>"
            ],
            "text/markdown": "\n**Bloch Sphere of the Message qubit in the initial state:**"
          },
          "metadata": {}
        },
        {
          "output_type": "stream",
          "name": "stdout",
          "text": [
            "x:  -0.8106  y:  -0.5854  z:  0.011\n"
          ]
        }
      ]
    },
    {
      "cell_type": "code",
      "source": [
        "# Records the final state of the simulation.\n",
        "final_results = sim.simulate(circuit)"
      ],
      "metadata": {
        "id": "mjC7gSscYhwG"
      },
      "execution_count": 15,
      "outputs": []
    },
    {
      "cell_type": "code",
      "source": [
        "# Bob's qubit afterwards\n",
        "printmd(\"\\n**Bloch Sphere of Bob's qubit in the final state:**\")\n",
        "teleported = cirq.bloch_vector_from_state_vector(\n",
        "    final_results.final_state_vector, 2)\n",
        "print(\"x: \", around(teleported[0], 4), \" y: \",\n",
        "    around(teleported[1], 4), \" z: \", around(teleported[2], 4))"
      ],
      "metadata": {
        "colab": {
          "base_uri": "https://localhost:8080/",
          "height": 64
        },
        "id": "uwHPWqYSYnst",
        "outputId": "4abe8403-e3c6-4f4f-9e4d-e51505d56b3d"
      },
      "execution_count": 16,
      "outputs": [
        {
          "output_type": "display_data",
          "data": {
            "text/plain": [
              "<IPython.core.display.Markdown object>"
            ],
            "text/markdown": "\n**Bloch Sphere of Bob's qubit in the final state:**"
          },
          "metadata": {}
        },
        {
          "output_type": "stream",
          "name": "stdout",
          "text": [
            "x:  0.8106  y:  0.5854  z:  0.011\n"
          ]
        }
      ]
    },
    {
      "cell_type": "code",
      "source": [
        "# Finally, the message in the final state of the simulation\n",
        "printmd(\"\\n**Bloch Sphere of the Message qubit in the final state:**\")\n",
        "message_final = cirq.bloch_vector_from_state_vector(\n",
        "    final_results.final_state_vector, 0)\n",
        "print(\"x: \", around(message_final[0], 4), \" y: \",\n",
        "    around(message_final[1], 4), \" z: \", around(message_final[2], 4))"
      ],
      "metadata": {
        "colab": {
          "base_uri": "https://localhost:8080/",
          "height": 64
        },
        "id": "0KrLoGJCYzc2",
        "outputId": "084a7728-ffca-4f3e-e5e7-75b90da4f604"
      },
      "execution_count": 18,
      "outputs": [
        {
          "output_type": "display_data",
          "data": {
            "text/plain": [
              "<IPython.core.display.Markdown object>"
            ],
            "text/markdown": "\n**Bloch Sphere of the Message qubit in the final state:**"
          },
          "metadata": {}
        },
        {
          "output_type": "stream",
          "name": "stdout",
          "text": [
            "x:  0.0  y:  0.0  z:  -1.0\n"
          ]
        }
      ]
    },
    {
      "cell_type": "markdown",
      "metadata": {
        "id": "lIeYQNYA5uw2"
      },
      "source": [
        "# **Experiment 5**: Quantum Teleportation without measurement\n"
      ]
    },
    {
      "cell_type": "code",
      "metadata": {
        "scrolled": false,
        "id": "_DuGmz_A5uw4",
        "outputId": "958d4584-41cf-4211-abd8-54e767881196",
        "colab": {
          "base_uri": "https://localhost:8080/",
          "height": 157
        }
      },
      "source": [
        "# Repeat Experiment #4 without the measurement gates of\n",
        "# the Bell state measurement\n",
        "\n",
        "qubit=[0,0,0]\n",
        "qubit[0]=cirq.NamedQubit('Message')\n",
        "qubit[1] = cirq.NamedQubit('QAlice')\n",
        "qubit[2] = cirq.NamedQubit('QBob')\n",
        "circuit = cirq.Circuit()\n",
        "circuit.append([\n",
        "    cirq.H(qubit[1]),\n",
        "    cirq.CNOT(qubit[1], qubit[2])\n",
        "    ])\n",
        "ranX = random.random()\n",
        "ranY = random.random()\n",
        "circuit.append([\n",
        "    cirq.X(qubit[0])**ranX,\n",
        "    cirq.Y(qubit[0])**ranY\n",
        "    ])\n",
        "circuit.append([\n",
        "    cirq.CNOT(qubit[0],qubit[1]),\n",
        "    cirq.H(qubit[0])\n",
        "    ])\n",
        "# SKIPPED!\n",
        "# circuit.append(cirq.measure(qubit[0], qubit[1]))\n",
        "circuit.append([\n",
        "    cirq.CNOT(qubit[1], qubit[2]),\n",
        "    cirq.CZ(qubit[0], qubit[2])\n",
        "    ])\n",
        "sim = cirq.Simulator()\n",
        "q0 = cirq.LineQubit(0)\n",
        "message = sim.simulate(\n",
        "    cirq.Circuit(\n",
        "        [cirq.X(q0)**ranX, cirq.Y(q0)**ranY]\n",
        "        )\n",
        "    )\n",
        "printmd(\"\\n**Bloch Sphere of the Message qubit in the initial state:**\")\n",
        "expected = cirq.bloch_vector_from_state_vector(message.final_state_vector,0)\n",
        "print(\"x: \", around(expected[0], 4), \" y: \", around(expected[1], 4),\n",
        "      \" z: \", around(expected[2], 4))\n",
        "final_results = sim.simulate(circuit)\n",
        "printmd(\"\\n**Bloch Sphere of Bob's qubit in the final state:**\")\n",
        "teleported = cirq.bloch_vector_from_state_vector(\n",
        "    final_results.final_state_vector, 2)\n",
        "print(\"x: \", around(teleported[0], 4), \" y: \",\n",
        "    around(teleported[1], 4), \" z: \", around(teleported[2], 4))\n",
        "printmd(\"\\n**Bloch Sphere of the Message qubit in the final state:**\")\n",
        "message_final = cirq.bloch_vector_from_state_vector(\n",
        "    final_results.final_state_vector, 0)\n",
        "print(\"x: \", around(message_final[0], 4), \" y: \",\n",
        "    around(message_final[1], 4), \" z: \", around(message_final[2], 4))"
      ],
      "execution_count": 19,
      "outputs": [
        {
          "output_type": "display_data",
          "data": {
            "text/plain": [
              "<IPython.core.display.Markdown object>"
            ],
            "text/markdown": "\n**Bloch Sphere of the Message qubit in the initial state:**"
          },
          "metadata": {}
        },
        {
          "output_type": "stream",
          "name": "stdout",
          "text": [
            "x:  -0.2195  y:  -0.2479  z:  0.9436\n"
          ]
        },
        {
          "output_type": "display_data",
          "data": {
            "text/plain": [
              "<IPython.core.display.Markdown object>"
            ],
            "text/markdown": "\n**Bloch Sphere of Bob's qubit in the final state:**"
          },
          "metadata": {}
        },
        {
          "output_type": "stream",
          "name": "stdout",
          "text": [
            "x:  -0.2195  y:  -0.2479  z:  0.9436\n"
          ]
        },
        {
          "output_type": "display_data",
          "data": {
            "text/plain": [
              "<IPython.core.display.Markdown object>"
            ],
            "text/markdown": "\n**Bloch Sphere of the Message qubit in the final state:**"
          },
          "metadata": {}
        },
        {
          "output_type": "stream",
          "name": "stdout",
          "text": [
            "x:  1.0  y:  0.0  z:  0.0\n"
          ]
        }
      ]
    }
  ]
}